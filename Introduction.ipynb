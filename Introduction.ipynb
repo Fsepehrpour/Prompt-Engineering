{
 "cells": [
  {
   "cell_type": "markdown",
   "metadata": {},
   "source": [
    "# Prompt Engineering\n",
    "\n",
    "We'll talk about what language models are.\n",
    "A tool to unluck human creativity to allow you to do things that you couldn't do before to take your thoughts and give them form and do it rapidly.\n",
    "\n",
    "These are tools that allow me to do things faster and better than I could before.\n",
    "\n",
    "#### How to write prompts?\n",
    "\n",
    "**Creativity** and an **openness to exploration** is really, important with these tools.\n",
    "\n",
    "The creativity of the human that's putting in the words for the prompts, who's deciding what goes into that prompt in the organization and what gets asked and what instructions are given are fundamentally important for using these tools effectively.\n",
    "**The way we tap into the capabilities of ChatGPT is by a pattern**.\n",
    "\n",
    "\n",
    "**Persona Pattern**: you're going to ask ChatGPT to act like a particular persona.\n",
    "It means like you're going to ask it to act like a person or some inanimate object, or an animal, or some system. There's all kinds of ways that you can use this.\n",
    "\n",
    "**What are large language models exactly?**\n",
    "What they're doing is they're taking your input and trying to generate the next word. Then they'll take that word that they generate, they'll add it to you what you originally gave it, and they'll try to generate the next word.\n",
    "\n",
    "It pays attention to words.\n",
    "These models are rapidly evolving.\n",
    "\n",
    "One thing to note: a lot of times this tool will produce the output that is not the same every time.\n",
    "These models are'nt designed to do exactly the same thing everytime. There is inherent randomness or variation in what they produce.\n",
    "\n",
    "They're always going to be behind in what they were trained on. They were taught to predict the next word and they learn from that idea of predicting the next word.\n",
    "\n",
    "**Randomness**:\n",
    "Large language models have some unpredictability to them.\n",
    "\n",
    "**What does prompt mean?** it is a call to action to the large language model. It is something that is getting LLM to start generating output.\n",
    "\n",
    "**Pattern**: patterns are really important.\n",
    "Large language models are trained basically to predict the next word.\n",
    "They're constantly predict what is the next word based on what came before.\n",
    "One of the things that it's learning to do is to recognize patterns that tell it what the next word should be.\n",
    "\n",
    "... page 1"
   ]
  }
 ],
 "metadata": {
  "language_info": {
   "name": "python"
  }
 },
 "nbformat": 4,
 "nbformat_minor": 2
}
